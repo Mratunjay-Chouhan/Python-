{
  "nbformat": 4,
  "nbformat_minor": 0,
  "metadata": {
    "colab": {
      "name": "P3.ipynb",
      "provenance": []
    },
    "kernelspec": {
      "name": "python3",
      "display_name": "Python 3"
    },
    "language_info": {
      "name": "python"
    }
  },
  "cells": [
    {
      "cell_type": "markdown",
      "source": [
        "**LOOPS**"
      ],
      "metadata": {
        "id": "kAALZhIajRwR"
      }
    },
    {
      "cell_type": "markdown",
      "source": [
        "Take a number as input rom user and print its multiplication table"
      ],
      "metadata": {
        "id": "zumHkoERje1x"
      }
    },
    {
      "cell_type": "code",
      "execution_count": null,
      "metadata": {
        "colab": {
          "base_uri": "https://localhost:8080/"
        },
        "id": "Z5h5fZScjJ4h",
        "outputId": "81e64e1a-92fc-4477-d97e-04bfec28b876"
      },
      "outputs": [
        {
          "output_type": "stream",
          "name": "stdout",
          "text": [
            "enter the number2\n",
            "Enter the end multiplier10\n",
            "2*0= 0\n",
            "2*1= 2\n",
            "2*2= 4\n",
            "2*3= 6\n",
            "2*4= 8\n",
            "2*5= 10\n",
            "2*6= 12\n",
            "2*7= 14\n",
            "2*8= 16\n",
            "2*9= 18\n",
            "2*10= 20\n"
          ]
        }
      ],
      "source": [
        "# using for loop\n",
        "num=int(input(\"enter the number\"))\n",
        "end=int(input(\"Enter the end multiplier\"))\n",
        "for i in range (0,end+1):\n",
        "  print(str(num) +\"*\"+str(i)+\"= \"+str(num*count))"
      ]
    },
    {
      "cell_type": "code",
      "source": [
        "# using while loop\n",
        "num=int(input(\"enter the number\"))\n",
        "end=int(input(\"Enter the end multiplier\"))\n",
        "count=1\n",
        "while end>0:\n",
        "  print(str(num) +\"*\"+str(count)+\"= \"+str(num*count))\n",
        "  count=count+1\n",
        "  end=end-1"
      ],
      "metadata": {
        "colab": {
          "base_uri": "https://localhost:8080/"
        },
        "id": "6x-5ELC6kq5d",
        "outputId": "2b095ea0-5115-478c-a5a6-68a604590706"
      },
      "execution_count": null,
      "outputs": [
        {
          "output_type": "stream",
          "name": "stdout",
          "text": [
            "enter the number2\n",
            "Enter the end multiplier10\n",
            "2*1= 2\n",
            "2*2= 4\n",
            "2*3= 6\n",
            "2*4= 8\n",
            "2*5= 10\n",
            "2*6= 12\n",
            "2*7= 14\n",
            "2*8= 16\n",
            "2*9= 18\n",
            "2*10= 20\n"
          ]
        }
      ]
    },
    {
      "cell_type": "markdown",
      "source": [
        "Take a list of numbers and display the even numbers from the list"
      ],
      "metadata": {
        "id": "_ha93JTVnEST"
      }
    },
    {
      "cell_type": "code",
      "source": [
        "li=[1,22,3,4,55,66,76,43,33,48,68,62,90]\n",
        "l2=[]\n",
        "for num in li:\n",
        "  if num%2==0:\n",
        "    l2.append(num)\n",
        "  else:\n",
        "    pass  \n",
        "print(l2)     "
      ],
      "metadata": {
        "colab": {
          "base_uri": "https://localhost:8080/"
        },
        "id": "frss0GMbl297",
        "outputId": "d21beef9-c367-4a77-8f49-b480df51e1c2"
      },
      "execution_count": null,
      "outputs": [
        {
          "output_type": "stream",
          "name": "stdout",
          "text": [
            "[22, 4, 66, 76, 48, 68, 62, 90]\n"
          ]
        }
      ]
    },
    {
      "cell_type": "markdown",
      "source": [
        "Take a list of numbers and display the even as well as odd numbers from the list"
      ],
      "metadata": {
        "id": "XNg4rjzr3Zde"
      }
    },
    {
      "cell_type": "code",
      "source": [
        "li=[1,22,3,4,55,66,76,43,33,48,68,62,90]\n",
        "l2=[]\n",
        "l3=[]\n",
        "for num in li:\n",
        "  if num%2==0:\n",
        "    l2.append(num)\n",
        "  elif num%2==1:\n",
        "    l3.append(num)\n",
        "  else:\n",
        "    pass  \n",
        "print(\"The ven numbers are\",l2)\n",
        "print(\"The odd numbers are\",l3)\n",
        " "
      ],
      "metadata": {
        "id": "tcdemLNKnyC0",
        "colab": {
          "base_uri": "https://localhost:8080/"
        },
        "outputId": "90126354-65e5-431b-bd3b-4375969ffe6a"
      },
      "execution_count": 2,
      "outputs": [
        {
          "output_type": "stream",
          "name": "stdout",
          "text": [
            "The ven numbers are [22, 4, 66, 76, 48, 68, 62, 90]\n",
            "The odd numbers are [1, 3, 55, 43, 33]\n"
          ]
        }
      ]
    },
    {
      "cell_type": "markdown",
      "source": [
        "From the above list count the number of even and odd values\n"
      ],
      "metadata": {
        "id": "8bw_TIIe4LgP"
      }
    },
    {
      "cell_type": "code",
      "source": [
        "li=[1,22,3,4,55,66,76,43,33,48,68,62,90]\n",
        "e_count=0\n",
        "o_count=0\n",
        "for i in li:\n",
        "  if i%2==0:\n",
        "    e_count=e_count+1\n",
        "  elif i%2==1:\n",
        "    o_count=o_count+1\n",
        "  else:\n",
        "    pass\n",
        "print(\"The even numbers in the list are \"+str(e_count)+\" & the odd numbers in the list are \"+str(o_count))    \n"
      ],
      "metadata": {
        "colab": {
          "base_uri": "https://localhost:8080/"
        },
        "id": "eAei1S5_4Sk5",
        "outputId": "093d291b-7f04-4fe6-e88a-558c8a81b6c0"
      },
      "execution_count": 3,
      "outputs": [
        {
          "output_type": "stream",
          "name": "stdout",
          "text": [
            "The even numbers in the list are 8 & the odd numbers in the list are 5\n"
          ]
        }
      ]
    },
    {
      "cell_type": "markdown",
      "source": [
        "Take a list of numbers and display the squares of the numbers from it"
      ],
      "metadata": {
        "id": "YhDM_QQO5kXm"
      }
    },
    {
      "cell_type": "code",
      "source": [
        "li=[1,20,3,40,4,55,66,76,43,33,48,68,62,90]\n",
        "square_list=[]\n",
        "for i in li:\n",
        "  square_list.append(i**2)\n",
        "print(li,\"\\n\")\n",
        "print(square_list)  "
      ],
      "metadata": {
        "colab": {
          "base_uri": "https://localhost:8080/"
        },
        "id": "lgH5ZtO35IVU",
        "outputId": "493b54fd-6daa-4c31-b928-cee1534709cf"
      },
      "execution_count": 4,
      "outputs": [
        {
          "output_type": "stream",
          "name": "stdout",
          "text": [
            "[1, 20, 3, 40, 4, 55, 66, 76, 43, 33, 48, 68, 62, 90] \n",
            "\n",
            "[1, 400, 9, 1600, 16, 3025, 4356, 5776, 1849, 1089, 2304, 4624, 3844, 8100]\n"
          ]
        }
      ]
    },
    {
      "cell_type": "markdown",
      "source": [
        "Statements:-\n",
        "\n",
        "-PASS: With pass a perticular segment of the code gets deactivated\n",
        "\n",
        "*   -BREAK:Forceably terminate an ongoing loop if a condition is satisfied\n",
        "*   -CONTINUE:When the condition is satisfied then we will skip the mentioned element\n",
        "\n",
        "\n",
        "\n",
        "\n",
        "\n",
        "\n",
        "\n"
      ],
      "metadata": {
        "id": "le3gvHFC7x6U"
      }
    },
    {
      "cell_type": "code",
      "source": [
        "# EXAMPLE OF PASS STATEMENT\n",
        "a=7\n",
        "b=3\n",
        "if a>b:\n",
        "  print(\"a is greater\")\n",
        "else:\n",
        "  pass     #here the else part is deactivated, meaning that if we pass some bigger value for b compared to that of a then the code will skip the else block due to \"PASS\"   "
      ],
      "metadata": {
        "colab": {
          "base_uri": "https://localhost:8080/"
        },
        "id": "XNM2y4Cd7DUk",
        "outputId": "c06e4bc2-5b8f-4ad5-88c8-e9c8132ed21a"
      },
      "execution_count": 5,
      "outputs": [
        {
          "output_type": "stream",
          "name": "stdout",
          "text": [
            "a is greater\n"
          ]
        }
      ]
    },
    {
      "cell_type": "code",
      "source": [
        "# BREAK\n",
        "fruits=[\"Mango\",\"Apple\",\"Guava\",\"Cherry\",\"Oranges\"]\n",
        "for fruit in fruits:\n",
        "  if fruit==\"Cherry\":\n",
        "    break\n",
        "  print(fruit)\n",
        "# here the \"BREAK\" terminates the program when the condition is met as true  "
      ],
      "metadata": {
        "colab": {
          "base_uri": "https://localhost:8080/"
        },
        "id": "DabFppZZ-MKx",
        "outputId": "f8a0c425-b1ab-4dca-b59f-b3bfe809f703"
      },
      "execution_count": 7,
      "outputs": [
        {
          "output_type": "stream",
          "name": "stdout",
          "text": [
            "Mango\n",
            "Apple\n",
            "Guava\n"
          ]
        }
      ]
    },
    {
      "cell_type": "code",
      "source": [
        "# CONTINUE\n",
        "fruits=[\"Mango\",\"Apple\",\"Guava\",\"Cherry\",\"Oranges\"]\n",
        "for fruit in fruits:\n",
        "  if fruit==\"Cherry\":\n",
        "    continue\n",
        "  print(fruit)\n",
        "# here whichever element is mentioned in the condition will be skippped and the loop will continue ahead  "
      ],
      "metadata": {
        "colab": {
          "base_uri": "https://localhost:8080/"
        },
        "id": "mm9O_v7O_MLs",
        "outputId": "3390f65c-6f1e-47ce-d35f-1b5b68d0e7d4"
      },
      "execution_count": 9,
      "outputs": [
        {
          "output_type": "stream",
          "name": "stdout",
          "text": [
            "Mango\n",
            "Apple\n",
            "Guava\n",
            "Oranges\n"
          ]
        }
      ]
    },
    {
      "cell_type": "markdown",
      "source": [
        "Display the numbers between 0 to 6 skipping 3 and 6"
      ],
      "metadata": {
        "id": "N0uJT5fvAkTm"
      }
    },
    {
      "cell_type": "code",
      "source": [
        "for i in range(0,7):\n",
        "  if (i==3 or i==6):\n",
        "    continue\n",
        "  print(i) "
      ],
      "metadata": {
        "colab": {
          "base_uri": "https://localhost:8080/"
        },
        "id": "vfgw3bwxAMCc",
        "outputId": "f7e4143a-54bf-4479-b30f-6987404eaebf"
      },
      "execution_count": 12,
      "outputs": [
        {
          "output_type": "stream",
          "name": "stdout",
          "text": [
            "0\n",
            "1\n",
            "2\n",
            "4\n",
            "5\n"
          ]
        }
      ]
    },
    {
      "cell_type": "code",
      "source": [
        ""
      ],
      "metadata": {
        "id": "fYl0_rcfBBfm"
      },
      "execution_count": null,
      "outputs": []
    }
  ]
}