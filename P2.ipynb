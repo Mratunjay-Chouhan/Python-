{
  "nbformat": 4,
  "nbformat_minor": 0,
  "metadata": {
    "colab": {
      "name": "P2.ipynb",
      "provenance": [],
      "collapsed_sections": []
    },
    "kernelspec": {
      "name": "python3",
      "display_name": "Python 3"
    },
    "language_info": {
      "name": "python"
    }
  },
  "cells": [
    {
      "cell_type": "markdown",
      "source": [
        "**Control Flow/Conditional statement /If-else statement**"
      ],
      "metadata": {
        "id": "YA660CorTNV0"
      }
    },
    {
      "cell_type": "markdown",
      "source": [
        "Insert 2 numbers x and y and display the bigger number. Also check if they are equal"
      ],
      "metadata": {
        "id": "EAOE5EWXTduv"
      }
    },
    {
      "cell_type": "code",
      "execution_count": null,
      "metadata": {
        "colab": {
          "base_uri": "https://localhost:8080/"
        },
        "id": "HmzPOIAUS29o",
        "outputId": "17d6260e-8695-46c0-a8fe-1ff7c1b4a3a9"
      },
      "outputs": [
        {
          "output_type": "stream",
          "name": "stdout",
          "text": [
            "Enter the first number: 2\n",
            "Enter the seconed number2\n",
            "Both are equal x=y=2\n"
          ]
        }
      ],
      "source": [
        "x=int(input(\"Enter the first number: \"))\n",
        "y=int(input(\"Enter the seconed number\"))\n",
        "if (x>y):\n",
        "  print(\"x is greater\"+str(x)) \n",
        "\n",
        "elif (x==y):\n",
        "  print(\"Both are equal x=y=\"+str(x))\n",
        "\n",
        "else:\n",
        "  print(\"y is greater\"+str(y))  "
      ]
    },
    {
      "cell_type": "markdown",
      "source": [
        "in a fare, the entry fees for children less than 4 is INR 0. For age 4-15 is INR 100 and for people above 15 will be INR 200.\n",
        "\n",
        "Take the age as input and display the fare for the person."
      ],
      "metadata": {
        "id": "PrRIvChuTDKs"
      }
    },
    {
      "cell_type": "code",
      "source": [
        "age=int(input(\"Welcome---> Enter your age: \"))\n",
        "if(age<=3):\n",
        "  print(\"Your fare for entry is 0\")\n",
        "elif(4<age<15):\n",
        "  print(\"Your fare for entry is 100\")  \n",
        "else:\n",
        "  print(\"Your fare is 200\")  "
      ],
      "metadata": {
        "colab": {
          "base_uri": "https://localhost:8080/"
        },
        "id": "1Wuy4-zPXMD3",
        "outputId": "d777a09e-de3f-4074-a919-c61bbdea4945"
      },
      "execution_count": null,
      "outputs": [
        {
          "output_type": "stream",
          "name": "stdout",
          "text": [
            "Welcome---> Enter your age: 4\n",
            "Your fare is 200\n"
          ]
        }
      ]
    },
    {
      "cell_type": "markdown",
      "source": [
        "NESTED IF ELSE STATEMENT"
      ],
      "metadata": {
        "id": "9VJq5McAaBLk"
      }
    },
    {
      "cell_type": "markdown",
      "source": [
        "Take 2 number as input from user and check which one is bigger also check if the nubmer is negative ar positive integer\n",
        "\n"
      ],
      "metadata": {
        "id": "EFx2X5qjac_C"
      }
    },
    {
      "cell_type": "code",
      "source": [
        "x=int(input(\"Enter the number1: \"))\n",
        "y=int(input(\"Enter the number2: \"))\n",
        "if (x>y):\n",
        "  print(\"x is greater than y\")\n",
        "  if (x<0):\n",
        "    print(str(x)+\" is a negative integer\")\n",
        "  elif(x==0):\n",
        "    print(str(x)+\" is 0\")  \n",
        "  else:\n",
        "    print(str(x)+\" is a positive integer\")   \n",
        "elif(y>x):    \n",
        "    if (y<0):\n",
        "      print(str(y)+\" is a negative integer\")\n",
        "    elif(x==0):\n",
        "      print(str(y)+\" is 0\") \n",
        "    else:\n",
        "      print(str(y)+\" is a positive integer\")   \n",
        "else:\n",
        "  print(str(x)+\"is equal to \"+str(y))    "
      ],
      "metadata": {
        "colab": {
          "base_uri": "https://localhost:8080/"
        },
        "id": "kRgfxUGRYtUe",
        "outputId": "3b9ec5df-4720-448c-955a-3606ab6507ed"
      },
      "execution_count": null,
      "outputs": [
        {
          "output_type": "stream",
          "name": "stdout",
          "text": [
            "Enter the number1: -1\n",
            "Enter the number2: -2\n",
            "x is greater than y\n",
            "-1 is a negative integer\n"
          ]
        }
      ]
    },
    {
      "cell_type": "markdown",
      "source": [
        "Write a program to enter a string and check if it is starting with a vovel or consonant"
      ],
      "metadata": {
        "id": "WXNcfCZpes6U"
      }
    },
    {
      "cell_type": "code",
      "source": [
        "inp=input(\"Enter the word: \")\n",
        "inp_start=inp[0]\n",
        "if inp_start in [\"a\",\"e\",\"i\",\"o\",\"u\",\"A\",\"E\",\"I\",\"O\",\"U\"]:\n",
        "  print(\"Enterd string starts with Vovel\")\n",
        "else:\n",
        "  print(\"Enterd string starts with a consonant\")  "
      ],
      "metadata": {
        "colab": {
          "base_uri": "https://localhost:8080/"
        },
        "id": "qMrzMd2ie5Wg",
        "outputId": "1411dccc-3b90-468e-d2b3-950cff91edf8"
      },
      "execution_count": null,
      "outputs": [
        {
          "output_type": "stream",
          "name": "stdout",
          "text": [
            "Enter the word: AMAN\n",
            "Enterd string starts with Vovel\n"
          ]
        }
      ]
    },
    {
      "cell_type": "code",
      "source": [
        ""
      ],
      "metadata": {
        "id": "mfHh4swvfhbG"
      },
      "execution_count": null,
      "outputs": []
    }
  ]
}