{
  "nbformat": 4,
  "nbformat_minor": 0,
  "metadata": {
    "colab": {
      "name": "P4.ipynb",
      "provenance": [],
      "collapsed_sections": []
    },
    "kernelspec": {
      "name": "python3",
      "display_name": "Python 3"
    },
    "language_info": {
      "name": "python"
    }
  },
  "cells": [
    {
      "cell_type": "markdown",
      "source": [
        "**Functions**"
      ],
      "metadata": {
        "id": "LT1uqSPq-wX1"
      }
    },
    {
      "cell_type": "markdown",
      "source": [
        "The function is a block of related statements designed to perform a computational, logical, or evaluative task.\n",
        "\n",
        "A function is of 2 types:\n",
        "\n",
        "*   User defined Function\n",
        "*   Built in Function\n",
        "\n",
        "In an user defined function the function is created as per user for his/her needs wheras in case of built in functions, these are made for user to perform task at ease. Examole for built in functions are: print(), input() etc.3\n",
        "\n",
        "*We have two operatons which we perform while working with the functions these are:*\n",
        "\n",
        "\n",
        "*   *define*\n",
        "*   *Call*\n",
        "\n",
        "*define:* *defining a function starts with user defined function name and the parameters related to it incorporated in the square brackets*\n",
        "**def func_name(parameters)**\n",
        "\n",
        "*call:* *While calling a function a user needs to use the function for some task he needs to perform. This user can do so by calling in the function with the function name and mentioning the arguments in parenthesis*\n",
        "**func_name(Arguments)**\n",
        "\n",
        "\n"
      ],
      "metadata": {
        "id": "6--Q3Ln1-4Wf"
      }
    },
    {
      "cell_type": "code",
      "execution_count": null,
      "metadata": {
        "colab": {
          "base_uri": "https://localhost:8080/"
        },
        "id": "JqHqT_10-vm6",
        "outputId": "c72e2f38-e24b-4cd4-a0e7-1babb3995a07"
      },
      "outputs": [
        {
          "output_type": "stream",
          "name": "stdout",
          "text": [
            "Sum of the three input arguments are 110\n"
          ]
        }
      ],
      "source": [
        "# Example 1:\n",
        "\n",
        "#---------------------------------------Defining a function---------------------------------------------------------------\n",
        "def addition_3_var(a,b,c): # here the addition_3_var is the name of the function and a,b,c are the parameters for the same\n",
        "  c=a+b+c\n",
        "  return c\n",
        "\n",
        "#----------------------------------------Calling a function---------------------------------------------------------------\n",
        "sum=addition_3_var(22,34,54)\n",
        "print(\"Sum of the three input arguments are\",sum)"
      ]
    },
    {
      "cell_type": "markdown",
      "source": [
        "Create a function for user to pass two numeral arguments and perform all the basic arithematic operations on them:"
      ],
      "metadata": {
        "id": "0MENPR8BD3mS"
      }
    },
    {
      "cell_type": "code",
      "source": [
        "def calculations(a,b):\n",
        "  \"\"\"this function is created to perform all the basic arithematic operations on the input argumemts\"\"\"\n",
        "  print(\"Add* is: \",a+b)\n",
        "  print(\"Multiply* is: \",a*b)\n",
        "  print(\"Div* is: \",a/b)\n",
        "  print(\"subs* is: \",a-b)\n",
        "\n",
        "calculations(44,2)"
      ],
      "metadata": {
        "colab": {
          "base_uri": "https://localhost:8080/"
        },
        "id": "SnQH2X8bDbXJ",
        "outputId": "edba7717-0507-4a23-f530-f9489b704de9"
      },
      "execution_count": null,
      "outputs": [
        {
          "output_type": "stream",
          "name": "stdout",
          "text": [
            "Add* is:  46\n",
            "Multiply* is:  88\n",
            "Div* is:  22.0\n",
            "subs* is:  42\n"
          ]
        }
      ]
    },
    {
      "cell_type": "code",
      "source": [
        "print(calculations.__doc__)"
      ],
      "metadata": {
        "colab": {
          "base_uri": "https://localhost:8080/"
        },
        "id": "V0YN71g-EzlZ",
        "outputId": "18d6cd1f-b16d-4522-91c3-0ea99777484e"
      },
      "execution_count": null,
      "outputs": [
        {
          "output_type": "stream",
          "name": "stdout",
          "text": [
            "None\n"
          ]
        }
      ]
    },
    {
      "cell_type": "markdown",
      "source": [
        "Create a function to take name and age and display the name of person"
      ],
      "metadata": {
        "id": "dNT2Awbjqllq"
      }
    },
    {
      "cell_type": "code",
      "source": [
        "def prsnl_details(name,age):\n",
        "  print(name)"
      ],
      "metadata": {
        "id": "VeHQWWN9Fm03"
      },
      "execution_count": null,
      "outputs": []
    },
    {
      "cell_type": "code",
      "source": [
        "prsnl_details(\"Mukund\",23)"
      ],
      "metadata": {
        "colab": {
          "base_uri": "https://localhost:8080/"
        },
        "id": "-Tz1_oE_q5Gz",
        "outputId": "5a5b4ed2-458d-48f9-da25-8921bc7b469b"
      },
      "execution_count": null,
      "outputs": [
        {
          "output_type": "stream",
          "name": "stdout",
          "text": [
            "Mukund\n"
          ]
        }
      ]
    },
    {
      "cell_type": "markdown",
      "source": [
        "Create a function which takes name and salary as input and display the salary of a person. Incase the salary is not mentioned, use default salary as 10,000"
      ],
      "metadata": {
        "id": "eI-MrSR_rsoT"
      }
    },
    {
      "cell_type": "code",
      "source": [
        "def salary(name, salary=10000):\n",
        "  print(salary)"
      ],
      "metadata": {
        "id": "UVRHMq-Krhqx"
      },
      "execution_count": null,
      "outputs": []
    },
    {
      "cell_type": "code",
      "source": [
        "salary(\"Mukund\",50000)"
      ],
      "metadata": {
        "colab": {
          "base_uri": "https://localhost:8080/"
        },
        "id": "gsQzz_scsMnT",
        "outputId": "6b92ba60-59c2-4c4d-b5be-7516af5efdd2"
      },
      "execution_count": null,
      "outputs": [
        {
          "output_type": "stream",
          "name": "stdout",
          "text": [
            "50000\n"
          ]
        }
      ]
    },
    {
      "cell_type": "code",
      "source": [
        "salary(\"Arnav\")"
      ],
      "metadata": {
        "colab": {
          "base_uri": "https://localhost:8080/"
        },
        "id": "ZJq-e95gsR9x",
        "outputId": "80929d8f-c46c-41b4-cd28-0f53d4733a8b"
      },
      "execution_count": null,
      "outputs": [
        {
          "output_type": "stream",
          "name": "stdout",
          "text": [
            "10000\n"
          ]
        }
      ]
    },
    {
      "cell_type": "markdown",
      "source": [
        "Types of arguments:\n",
        "\n",
        "1. Arbitary arguments\n",
        "2. Keyword arguments\n",
        "3. Arbitary Keyword arguments"
      ],
      "metadata": {
        "id": "WANARrXSdwGw"
      }
    },
    {
      "cell_type": "code",
      "source": [
        "# An arbitary argument will accept any number of parameters.\n",
        "def func1(*child):\n",
        "  print(\"the youngest child is \",child[2])\n"
      ],
      "metadata": {
        "id": "yPx4uDtOsW3T"
      },
      "execution_count": null,
      "outputs": []
    },
    {
      "cell_type": "code",
      "source": [
        "func1(\"Meera\",\"sita\",\"anubhav\",\"Kamal\",\"lokesh\")"
      ],
      "metadata": {
        "colab": {
          "base_uri": "https://localhost:8080/"
        },
        "id": "61WHZkaYeTIB",
        "outputId": "00276c07-4ca0-43e3-89ef-2b3a5cf5e1e6"
      },
      "execution_count": null,
      "outputs": [
        {
          "output_type": "stream",
          "name": "stdout",
          "text": [
            "the youngest child is  anubhav\n"
          ]
        }
      ]
    },
    {
      "cell_type": "code",
      "source": [
        "# in keyword argumnet we know the exact number of parameters for the input. Also, the parameters are included in as in form of key value pairs\n",
        "def func2(child1,child3,child2):\n",
        "  print(\"The youngest child is \",child2)\n",
        "  "
      ],
      "metadata": {
        "id": "tIiA-qP9eiWs"
      },
      "execution_count": null,
      "outputs": []
    },
    {
      "cell_type": "code",
      "source": [
        "func2(child1=\"ram\",child2=\"shyam\",child3=\"geeta\")"
      ],
      "metadata": {
        "colab": {
          "base_uri": "https://localhost:8080/"
        },
        "id": "KNLHSo3MgQol",
        "outputId": "a0df1b20-2b10-4a88-e5b9-47d62837d89a"
      },
      "execution_count": null,
      "outputs": [
        {
          "output_type": "stream",
          "name": "stdout",
          "text": [
            "The youngest child is  shyam\n"
          ]
        }
      ]
    },
    {
      "cell_type": "code",
      "source": [
        "# An arbitary keyword argument is a combination of both arbitary and keyword argument and is repreented as follows:\n",
        "def func3(**names):\n",
        "  print(\"your last name is\",names[\"lname\"])"
      ],
      "metadata": {
        "id": "Sv0wgmPHgaoI"
      },
      "execution_count": null,
      "outputs": []
    },
    {
      "cell_type": "code",
      "source": [
        "func3(fname=\"Mratunjay\",mname=\"Singh\",lname=\"Chouhan\")"
      ],
      "metadata": {
        "colab": {
          "base_uri": "https://localhost:8080/"
        },
        "id": "joIMcZbPjcwW",
        "outputId": "da1a6d94-ea1a-4767-bb8c-5cd5b1faa0e5"
      },
      "execution_count": null,
      "outputs": [
        {
          "output_type": "stream",
          "name": "stdout",
          "text": [
            "your last name is Chouhan\n"
          ]
        }
      ]
    },
    {
      "cell_type": "markdown",
      "source": [
        "**Question**\n",
        "\n",
        "Create a function which checks weather a number is in given range or not\n"
      ],
      "metadata": {
        "id": "PqbHwy8Uk1ds"
      }
    },
    {
      "cell_type": "code",
      "source": [
        "def num_check(number):\n",
        "  if number in range(0,101):\n",
        "    print(\"Number in range\")\n",
        "  else:\n",
        "    print(\"Out of range\")  "
      ],
      "metadata": {
        "id": "Eub9RJNNjsMn"
      },
      "execution_count": null,
      "outputs": []
    },
    {
      "cell_type": "code",
      "source": [
        "num_check(100)"
      ],
      "metadata": {
        "colab": {
          "base_uri": "https://localhost:8080/"
        },
        "id": "Ps-6TWjGlUz3",
        "outputId": "9fbbb6cc-03e0-4ff7-f585-c5be7c5da7c8"
      },
      "execution_count": null,
      "outputs": [
        {
          "output_type": "stream",
          "name": "stdout",
          "text": [
            "Number in range\n"
          ]
        }
      ]
    },
    {
      "cell_type": "markdown",
      "source": [
        "Create a function which takes list of numbers and returns all the duplicate values in other list"
      ],
      "metadata": {
        "id": "w1R-mDw1loNB"
      }
    },
    {
      "cell_type": "code",
      "source": [
        "def repeatn(*num):\n",
        "  l1=list(num)\n",
        "  print(l1)\n",
        "  li=[]\n",
        "  repeat=[]\n",
        "  for value in l1:\n",
        "      if value not in li:\n",
        "        li.append(value)\n",
        "      else:\n",
        "        repeat.append(value)\n",
        "  return(repeat)         "
      ],
      "metadata": {
        "id": "GtAlIovhGb9V"
      },
      "execution_count": 6,
      "outputs": []
    },
    {
      "cell_type": "code",
      "source": [
        "repeatn(1,2,2,33,44,56,6)"
      ],
      "metadata": {
        "colab": {
          "base_uri": "https://localhost:8080/"
        },
        "id": "qc_TkeKwHGbp",
        "outputId": "c1c7000c-736e-42e3-bb62-f59d21e1fd47"
      },
      "execution_count": 7,
      "outputs": [
        {
          "output_type": "stream",
          "name": "stdout",
          "text": [
            "[1, 2, 2, 33, 44, 56, 6]\n"
          ]
        },
        {
          "output_type": "execute_result",
          "data": {
            "text/plain": [
              "[2]"
            ]
          },
          "metadata": {},
          "execution_count": 7
        }
      ]
    }
  ]
}