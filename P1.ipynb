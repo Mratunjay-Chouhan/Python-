{
  "nbformat": 4,
  "nbformat_minor": 0,
  "metadata": {
    "colab": {
      "name": "P1.ipynb",
      "provenance": [],
      "collapsed_sections": []
    },
    "kernelspec": {
      "name": "python3",
      "display_name": "Python 3"
    },
    "language_info": {
      "name": "python"
    }
  },
  "cells": [
    {
      "cell_type": "markdown",
      "source": [
        "Take the first name and last name of a person as input and concatinate the result"
      ],
      "metadata": {
        "id": "oEtINVyoQEIP"
      }
    },
    {
      "cell_type": "code",
      "execution_count": null,
      "metadata": {
        "colab": {
          "base_uri": "https://localhost:8080/"
        },
        "id": "7yC4z8XsQDNg",
        "outputId": "29b4bc6f-8aad-4afa-dd39-7ddb12d2260b"
      },
      "outputs": [
        {
          "output_type": "stream",
          "name": "stdout",
          "text": [
            "Enter the first name: Mratunjay\n",
            "Enter the last name: Chouhan\n",
            "Mratunjay Chouhan\n"
          ]
        }
      ],
      "source": [
        "first_name=input(\"Enter the first name: \")\n",
        "last_name=input(\"Enter the last name: \")\n",
        "print(first_name+\" \"+last_name)\n"
      ]
    },
    {
      "cell_type": "code",
      "source": [
        ""
      ],
      "metadata": {
        "id": "pjdNkIs6NyNV"
      },
      "execution_count": null,
      "outputs": []
    },
    {
      "cell_type": "markdown",
      "source": [
        "l1=[\"India\", \"USA\", \"Russia\", [\"Mangoes\", \"Oranges\", \"Watermelon\"]]\n",
        "\n",
        "1. fetch output as oranges and watermelon\n",
        "2. fetch output  as India and Mangoes"
      ],
      "metadata": {
        "id": "m35GgncvRjAo"
      }
    },
    {
      "cell_type": "markdown",
      "source": [
        "Lists"
      ],
      "metadata": {
        "id": "H5CAY8N-KGaz"
      }
    },
    {
      "cell_type": "code",
      "source": [
        "l1=[\"India\", \"USA\", \"Russia\", [\"Mangoes\", \"Oranges\", \"Watermelon\"]]\n",
        "l1[3][1:]\n"
      ],
      "metadata": {
        "colab": {
          "base_uri": "https://localhost:8080/"
        },
        "id": "_Ql_C9_8RK1l",
        "outputId": "a15cd563-3f3d-45bb-e53e-f014998baa30"
      },
      "execution_count": null,
      "outputs": [
        {
          "output_type": "execute_result",
          "data": {
            "text/plain": [
              "['Oranges', 'Watermelon']"
            ]
          },
          "metadata": {},
          "execution_count": 9
        }
      ]
    },
    {
      "cell_type": "code",
      "source": [
        "print(l1[0]+\" \"+l1[3][0])"
      ],
      "metadata": {
        "colab": {
          "base_uri": "https://localhost:8080/"
        },
        "id": "zTLEe4L7Sm4h",
        "outputId": "a77282fe-4201-48a9-e9ea-e5c368279cb4"
      },
      "execution_count": null,
      "outputs": [
        {
          "output_type": "stream",
          "name": "stdout",
          "text": [
            "India Mangoes\n"
          ]
        }
      ]
    },
    {
      "cell_type": "code",
      "source": [
        "# Dictionaries\n",
        "gros={\"mango\":30,\"pens\":10,\"chocolate\":100}\n",
        "type(gros)"
      ],
      "metadata": {
        "id": "ovMnmhFwU748",
        "colab": {
          "base_uri": "https://localhost:8080/"
        },
        "outputId": "438cb832-d97f-4623-9ca3-f1f1b5a800b3"
      },
      "execution_count": 1,
      "outputs": [
        {
          "output_type": "execute_result",
          "data": {
            "text/plain": [
              "dict"
            ]
          },
          "metadata": {},
          "execution_count": 1
        }
      ]
    },
    {
      "cell_type": "code",
      "source": [
        "gros[\"pens\"]"
      ],
      "metadata": {
        "colab": {
          "base_uri": "https://localhost:8080/"
        },
        "id": "m7zKbnHmFFAV",
        "outputId": "4e39605d-8910-4c74-cbf7-122582fb9e40"
      },
      "execution_count": 2,
      "outputs": [
        {
          "output_type": "execute_result",
          "data": {
            "text/plain": [
              "10"
            ]
          },
          "metadata": {},
          "execution_count": 2
        }
      ]
    },
    {
      "cell_type": "code",
      "source": [
        "# Inorder to change values associated with the keys we can use the key we can change it as follows.\n",
        "gros[\"pens\"]=50\n",
        "gros"
      ],
      "metadata": {
        "colab": {
          "base_uri": "https://localhost:8080/"
        },
        "id": "lI3EsGErFRab",
        "outputId": "b0266189-11a7-4182-e27d-443ccdc279ef"
      },
      "execution_count": 4,
      "outputs": [
        {
          "output_type": "execute_result",
          "data": {
            "text/plain": [
              "{'chocolate': 100, 'mango': 30, 'pens': 50}"
            ]
          },
          "metadata": {},
          "execution_count": 4
        }
      ]
    },
    {
      "cell_type": "code",
      "source": [
        "#we can addnew elements to the dictiolnary as follows:\n",
        "gros[\"coffee\"]=300\n",
        "gros[\"shampoo\"]=45\n",
        "gros"
      ],
      "metadata": {
        "colab": {
          "base_uri": "https://localhost:8080/"
        },
        "id": "ADb-GbA-GnlD",
        "outputId": "ab14adab-ce7a-4154-a4ff-a545acb2ed07"
      },
      "execution_count": 10,
      "outputs": [
        {
          "output_type": "execute_result",
          "data": {
            "text/plain": [
              "{'chocolate': 100, 'coffee': 300, 'mango': 30, 'pens': 50, 'shampoo': 45}"
            ]
          },
          "metadata": {},
          "execution_count": 10
        }
      ]
    },
    {
      "cell_type": "code",
      "source": [
        "# inorder to remove elements from a dictionary we can do inthe following fashion\n",
        "gros.pop(\"shampoo\")\n",
        "gros"
      ],
      "metadata": {
        "colab": {
          "base_uri": "https://localhost:8080/"
        },
        "id": "DtYFOHPQHixC",
        "outputId": "2a5399c0-edba-4ce0-8c00-4fdea80be2d1"
      },
      "execution_count": 11,
      "outputs": [
        {
          "output_type": "execute_result",
          "data": {
            "text/plain": [
              "{'chocolate': 100, 'coffee': 300, 'mango': 30, 'pens': 50}"
            ]
          },
          "metadata": {},
          "execution_count": 11
        }
      ]
    },
    {
      "cell_type": "code",
      "source": [
        "del gros[\"coffee\"]"
      ],
      "metadata": {
        "id": "ClaoJXNIIQsG"
      },
      "execution_count": 12,
      "outputs": []
    },
    {
      "cell_type": "code",
      "source": [
        "print(gros)"
      ],
      "metadata": {
        "colab": {
          "base_uri": "https://localhost:8080/"
        },
        "id": "Tfvxr_ERIdBW",
        "outputId": "6a968a23-081d-4a54-fd43-f589b223d324"
      },
      "execution_count": 13,
      "outputs": [
        {
          "output_type": "stream",
          "name": "stdout",
          "text": [
            "{'mango': 30, 'pens': 50, 'chocolate': 100}\n"
          ]
        }
      ]
    },
    {
      "cell_type": "code",
      "source": [
        "# We can even clear the entire content of a dictionary as follows\n",
        "dict1={\"brand\": \"Ford\",\n",
        "  \"model\": \"Mustang\",\n",
        "  \"year\": 1964}\n",
        "dict1.clear()\n",
        "print(dict1)  "
      ],
      "metadata": {
        "colab": {
          "base_uri": "https://localhost:8080/"
        },
        "id": "9iPmbkh6Iqgx",
        "outputId": "d49bbe85-ae6c-493f-e62a-7c5105875ca2"
      },
      "execution_count": 14,
      "outputs": [
        {
          "output_type": "stream",
          "name": "stdout",
          "text": [
            "{}\n"
          ]
        }
      ]
    },
    {
      "cell_type": "code",
      "source": [
        ""
      ],
      "metadata": {
        "id": "vMK9_EBQJBES"
      },
      "execution_count": null,
      "outputs": []
    }
  ]
}